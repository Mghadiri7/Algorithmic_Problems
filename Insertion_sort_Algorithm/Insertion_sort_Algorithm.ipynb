{
 "cells": [
  {
   "cell_type": "code",
   "execution_count": 3,
   "id": "a387e0f2-7cb2-4002-afab-457d1ce8959c",
   "metadata": {},
   "outputs": [],
   "source": [
    "from random import randint as rnd"
   ]
  },
  {
   "cell_type": "code",
   "execution_count": 4,
   "id": "ccce357f-6e27-41fd-83ef-d641e668928d",
   "metadata": {},
   "outputs": [
    {
     "name": "stdout",
     "output_type": "stream",
     "text": [
      "[81, 95, 46, 17, 59, 52, 15, 83, 54, 25, 55, 4, 5, 14, 12, 24, 89, 44, 21, 95]\n"
     ]
    }
   ],
   "source": [
    "N = 100\n",
    "length = 20\n",
    "_list = [rnd(1, N) for i in range(length)]\n",
    "print(_list)"
   ]
  },
  {
   "cell_type": "code",
   "execution_count": 5,
   "id": "a0d3b532-9945-47f4-b6f1-5ca8648bac7e",
   "metadata": {},
   "outputs": [
    {
     "name": "stdout",
     "output_type": "stream",
     "text": [
      "[4, 5, 12, 14, 15, 17, 21, 24, 25, 44, 46, 52, 54, 55, 59, 81, 83, 89, 95, 95]\n"
     ]
    }
   ],
   "source": [
    "new_list = []\n",
    "for i in _list:\n",
    "    for j in range(len(new_list)):\n",
    "        if i<new_list[j]:\n",
    "            new_list.insert(j, i)\n",
    "            break\n",
    "    else:\n",
    "        new_list.append(i)\n",
    "print(new_list)"
   ]
  },
  {
   "cell_type": "code",
   "execution_count": 6,
   "id": "a06f4590-2882-4cf6-9f84-1630f0f512a4",
   "metadata": {},
   "outputs": [
    {
     "name": "stdout",
     "output_type": "stream",
     "text": [
      "[4, 5, 12, 14, 15, 17, 21, 24, 25, 44, 46, 52, 54, 55, 59, 81, 83, 89, 95, 95]\n"
     ]
    }
   ],
   "source": [
    "# insert with one list\n",
    "for i in range(1, length):\n",
    "    for j in range(i):\n",
    "        if _list[i]<_list[j]:\n",
    "            item = _list[i]\n",
    "            _list.pop(i)\n",
    "            _list.insert(j, item)\n",
    "print(_list)"
   ]
  }
 ],
 "metadata": {
  "kernelspec": {
   "display_name": "Python 3 (ipykernel)",
   "language": "python",
   "name": "python3"
  },
  "language_info": {
   "codemirror_mode": {
    "name": "ipython",
    "version": 3
   },
   "file_extension": ".py",
   "mimetype": "text/x-python",
   "name": "python",
   "nbconvert_exporter": "python",
   "pygments_lexer": "ipython3",
   "version": "3.10.11"
  }
 },
 "nbformat": 4,
 "nbformat_minor": 5
}
