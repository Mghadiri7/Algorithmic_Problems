{
 "cells": [
  {
   "cell_type": "code",
   "execution_count": 1,
   "id": "68db3daa-e745-4de7-9f69-56a53a31fda9",
   "metadata": {},
   "outputs": [],
   "source": [
    "grid = [\n",
    "    [2,0,0,0,0,5,0,4,0],\n",
    "    [0,9,0,0,0,4,6,0,0],\n",
    "    [4,0,7,0,2,9,3,5,0],\n",
    "    [5,0,0,4,0,2,8,6,7],\n",
    "    [7,2,0,0,0,0,0,9,0],\n",
    "    [3,0,0,9,0,0,5,0,4],\n",
    "    [0,7,0,2,0,6,0,3,5],\n",
    "    [9,4,0,0,8,1,0,7,0],\n",
    "    [0,0,0,7,0,0,9,0,1]\n",
    "]"
   ]
  },
  {
   "cell_type": "code",
   "execution_count": 2,
   "id": "05d47814-6463-42a0-95df-114a5fe2bbea",
   "metadata": {},
   "outputs": [],
   "source": [
    "def valid_move(grid, row, column, number):\n",
    "    if number in grid[row]:\n",
    "        return False\n",
    "\n",
    "    for i in range(9):\n",
    "        if grid[i][column] == number:\n",
    "            return False\n",
    "\n",
    "    top_left_corner_row = row - (row % 3)\n",
    "    top_left_corner_column = column - (column % 3)\n",
    "    for x in range(3):\n",
    "        for y in range(3):\n",
    "            if grid[top_left_corner_row + x][top_left_corner_column +y] == number:\n",
    "                return False\n",
    "\n",
    "    return True"
   ]
  },
  {
   "cell_type": "code",
   "execution_count": 3,
   "id": "49ef2e81-3929-488a-85b2-9d66c58728c3",
   "metadata": {},
   "outputs": [],
   "source": [
    "def solving(grid, row, column):\n",
    "    if column == 9:\n",
    "        if row == 8:\n",
    "            return True\n",
    "        else:\n",
    "            row+=1\n",
    "            column = 0\n",
    "\n",
    "    if grid[row][column]>0:\n",
    "        return solving(grid, row, column+1)\n",
    "\n",
    "    for number in range(1, 10):\n",
    "        if valid_move(grid, row , column, number):\n",
    "            grid[row][column]=number\n",
    "            \n",
    "            if solving(grid, row, column+1):\n",
    "                return True\n",
    "        grid[row][column]=0\n",
    "\n",
    "    return False"
   ]
  },
  {
   "cell_type": "code",
   "execution_count": 4,
   "id": "5d47e8ce-3444-4240-917f-ded7553388ce",
   "metadata": {},
   "outputs": [
    {
     "name": "stdout",
     "output_type": "stream",
     "text": [
      "2 3 1 8 6 5 7 4 9 \n",
      "\n",
      "8 9 5 3 7 4 6 1 2 \n",
      "\n",
      "4 6 7 1 2 9 3 5 8 \n",
      "\n",
      "5 1 9 4 3 2 8 6 7 \n",
      "\n",
      "7 2 4 6 5 8 1 9 3 \n",
      "\n",
      "3 8 6 9 1 7 5 2 4 \n",
      "\n",
      "1 7 8 2 9 6 4 3 5 \n",
      "\n",
      "9 4 3 5 8 1 2 7 6 \n",
      "\n",
      "6 5 2 7 4 3 9 8 1 \n",
      "\n"
     ]
    }
   ],
   "source": [
    "if solving(grid, 0, 0):\n",
    "    for i in range(9):\n",
    "        for j in range(9):\n",
    "            print(grid[i][j], end=\" \")\n",
    "        print(\"\\n\")\n",
    "else:\n",
    "    print(\"No Solution For This Sudoku\")"
   ]
  }
 ],
 "metadata": {
  "kernelspec": {
   "display_name": "Python 3 (ipykernel)",
   "language": "python",
   "name": "python3"
  },
  "language_info": {
   "codemirror_mode": {
    "name": "ipython",
    "version": 3
   },
   "file_extension": ".py",
   "mimetype": "text/x-python",
   "name": "python",
   "nbconvert_exporter": "python",
   "pygments_lexer": "ipython3",
   "version": "3.10.11"
  }
 },
 "nbformat": 4,
 "nbformat_minor": 5
}
