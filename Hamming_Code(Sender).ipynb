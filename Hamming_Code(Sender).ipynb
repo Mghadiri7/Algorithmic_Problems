{
 "cells": [
  {
   "cell_type": "code",
   "execution_count": 1,
   "id": "9130c450-825e-4f77-a350-2ec69d9b5aa1",
   "metadata": {},
   "outputs": [],
   "source": [
    "import numpy as np"
   ]
  },
  {
   "cell_type": "code",
   "execution_count": 2,
   "id": "2bf75eb7-b984-40c1-9d4d-f4fcc95b2b74",
   "metadata": {},
   "outputs": [
    {
     "name": "stdout",
     "output_type": "stream",
     "text": [
      "['a', 'b', 'c', 'd', 'e', 'f', 'g', 'h', 'i', 'j', 'k', 'l', 'm', 'n', 'o', 'p', 'q', 'r', 's', 't', 'u', 'v', 'w', 'x', 'y', 'z', 'A', 'B', 'C', 'D', 'E', 'F', 'G', 'H', 'I', 'J', 'K', 'L', 'M', 'N', 'O', 'P', 'Q', 'R', 'S', 'T', 'U', 'V', 'W', 'X', 'Y', 'Z', '0', '1', '2', '3', '4', '5', '6', '7', '8', '9', ' ', '!', '@', '#', '$', '%', '^', '&', '*', '(', ')', '_', '+', '<', '>', '.', ',']\n"
     ]
    }
   ],
   "source": [
    "alphabet = list(map(lambda x: x, \n",
    "                    \"abcdefghijklmnopqrstuvwxyzABCDEFGHIJKLMNOPQRSTUVWXYZ0123456789 !@#$%^&*()_+<>.,\"))\n",
    "print(alphabet)\n",
    "length = len(alphabet)"
   ]
  },
  {
   "cell_type": "code",
   "execution_count": 3,
   "id": "e5ea3bbd-a993-40ac-9fd8-781cb762a0c3",
   "metadata": {},
   "outputs": [
    {
     "name": "stdout",
     "output_type": "stream",
     "text": [
      "['0b100010', '0b111110', '0b100101', '0b1110', '0b10101', '0b100', '0b111110', '0b110010', '0b1110', '0b10100', '0b1001101']\n"
     ]
    }
   ],
   "source": [
    "# _str = \"Hello, World!\"\n",
    "_str = \"I Love You.\"\n",
    "binary_rep = []\n",
    "for i in _str:\n",
    "    binary_rep.append(bin(alphabet.index(i)))\n",
    "print(binary_rep)"
   ]
  },
  {
   "cell_type": "code",
   "execution_count": 4,
   "id": "30350d89-5cd7-4ada-9e2d-8790bb108b72",
   "metadata": {},
   "outputs": [],
   "source": [
    "def block_creator(binary_code):\n",
    "    # padding\n",
    "    binary_code = binary_code[2:]\n",
    "    length = len(binary_code)\n",
    "    for i in range(length, 11):\n",
    "        binary_code = \"0\" + binary_code\n",
    "    # print(binary_code)\n",
    "    # print(\"****************************\")\n",
    "    # end of padding\n",
    "    places = [[0,3], [1,1], [1,2], [1,3], [2,1], [2,2], [2,3], [3,0], [3,1], [3,2], [3,3]]\n",
    "    block = np.zeros((4,4), np.int8)\n",
    "    for index, value in enumerate(binary_code):\n",
    "        row, col = places[index]\n",
    "        block[row][col] = value\n",
    "    # print(block)\n",
    "    # print(\"****************************\")\n",
    "\n",
    "    if (np.count_nonzero(block[:, 1]) + np.count_nonzero(block[:, 3])) % 2 == 1:\n",
    "        block[0][1] = 1\n",
    "    if (np.count_nonzero(block[:, 2]) + np.count_nonzero(block[:, 3])) % 2 == 1:\n",
    "        block[0][2] = 1\n",
    "    if (np.count_nonzero(block[1]) + np.count_nonzero(block[3])) % 2 == 1:\n",
    "        block[1][0] = 1\n",
    "    if (np.count_nonzero(block[2]) + np.count_nonzero(block[3])) % 2 == 1:\n",
    "        block[2][0] = 1\n",
    "    if np.count_nonzero(block) % 2:\n",
    "        block[0][0] = 1\n",
    "    print(block)\n",
    "    print(\"****************************\")\n",
    "    return block"
   ]
  },
  {
   "cell_type": "code",
   "execution_count": 5,
   "id": "2e79180d-e771-4d4d-b47f-078d4536b753",
   "metadata": {},
   "outputs": [
    {
     "name": "stdout",
     "output_type": "stream",
     "text": [
      "[[1 0 0 0]\n",
      " [1 0 0 0]\n",
      " [0 0 1 0]\n",
      " [0 0 1 0]]\n",
      "****************************\n",
      "[[0 0 1 0]\n",
      " [1 0 0 0]\n",
      " [1 0 1 1]\n",
      " [1 1 1 0]]\n",
      "****************************\n",
      "[[0 0 0 0]\n",
      " [0 0 0 0]\n",
      " [1 0 1 0]\n",
      " [0 1 0 1]]\n",
      "****************************\n",
      "[[1 1 1 0]\n",
      " [1 0 0 0]\n",
      " [1 0 0 0]\n",
      " [1 1 1 0]]\n",
      "****************************\n",
      "[[1 1 0 0]\n",
      " [0 0 0 0]\n",
      " [1 0 0 1]\n",
      " [0 1 0 1]]\n",
      "****************************\n",
      "[[0 1 0 0]\n",
      " [1 0 0 0]\n",
      " [1 0 0 0]\n",
      " [0 1 0 0]]\n",
      "****************************\n",
      "[[0 0 1 0]\n",
      " [1 0 0 0]\n",
      " [1 0 1 1]\n",
      " [1 1 1 0]]\n",
      "****************************\n",
      "[[1 1 1 0]\n",
      " [1 0 0 0]\n",
      " [1 0 1 1]\n",
      " [0 0 1 0]]\n",
      "****************************\n",
      "[[1 1 1 0]\n",
      " [1 0 0 0]\n",
      " [1 0 0 0]\n",
      " [1 1 1 0]]\n",
      "****************************\n",
      "[[0 0 1 0]\n",
      " [1 0 0 0]\n",
      " [0 0 0 1]\n",
      " [0 1 0 0]]\n",
      "****************************\n",
      "[[1 1 1 0]\n",
      " [1 0 0 0]\n",
      " [0 1 0 0]\n",
      " [1 1 0 1]]\n",
      "****************************\n"
     ]
    }
   ],
   "source": [
    "# binary_rep[i] = block_creator(binary_rep[i])\n",
    "binary_str = \"\"\n",
    "for i in range(len(binary_rep)):\n",
    "    _list = (block_creator(binary_rep[i])).flatten(order=\"C\")\n",
    "    _list = _list.tolist()\n",
    "    binary_str += \"\".join([str(i) for i in _list])"
   ]
  },
  {
   "cell_type": "code",
   "execution_count": 6,
   "id": "cd118af1-52e0-4ce6-b32f-f7c0dd44e6f4",
   "metadata": {},
   "outputs": [],
   "source": [
    "with open(\"data.txt\", \"w\") as file:\n",
    "    file.write(binary_str)"
   ]
  }
 ],
 "metadata": {
  "kernelspec": {
   "display_name": "Python 3 (ipykernel)",
   "language": "python",
   "name": "python3"
  },
  "language_info": {
   "codemirror_mode": {
    "name": "ipython",
    "version": 3
   },
   "file_extension": ".py",
   "mimetype": "text/x-python",
   "name": "python",
   "nbconvert_exporter": "python",
   "pygments_lexer": "ipython3",
   "version": "3.10.11"
  }
 },
 "nbformat": 4,
 "nbformat_minor": 5
}
