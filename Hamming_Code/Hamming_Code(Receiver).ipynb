{
 "cells": [
  {
   "cell_type": "code",
   "execution_count": 1,
   "id": "97fc0829-5e2b-473d-951d-27f1527acdcc",
   "metadata": {},
   "outputs": [],
   "source": [
    "import numpy as np"
   ]
  },
  {
   "cell_type": "code",
   "execution_count": 2,
   "id": "f379c64d-57b7-4b2c-be13-eca6e4595b05",
   "metadata": {},
   "outputs": [
    {
     "name": "stdout",
     "output_type": "stream",
     "text": [
      "10001000001000100010100010111110000000001010010111101000100011101100000010010101010010001000010000101000101111101110100010110010111010001000111000101000000101001110100001001101\n"
     ]
    }
   ],
   "source": [
    "with open(\"data.txt\", \"r\") as file:\n",
    "    data = file.read()\n",
    "print(data)"
   ]
  },
  {
   "cell_type": "code",
   "execution_count": 3,
   "id": "58b581ee-af87-4f92-ad46-ce46a76aa962",
   "metadata": {},
   "outputs": [
    {
     "name": "stdout",
     "output_type": "stream",
     "text": [
      "['1000100000100010', '0010100010111110', '0000000010100101', '1110100010001110', '1100000010010101', '0100100010000100', '0010100010111110', '1110100010110010', '1110100010001110', '0010100000010100', '1110100001001101']\n"
     ]
    }
   ],
   "source": [
    "binary_rep = []\n",
    "for i in range(0, len(data), 16):\n",
    "    binary_rep.append(data[i:i+16])\n",
    "print(binary_rep)"
   ]
  },
  {
   "cell_type": "code",
   "execution_count": 4,
   "id": "ea52b9bf-7b6f-464c-abf0-777d27836be8",
   "metadata": {},
   "outputs": [],
   "source": [
    "def block_creator(str_rep):\n",
    "    _list = list(map(lambda x: int(x), str_rep))\n",
    "    block = np.array(_list)\n",
    "    block = block.reshape((4,4))\n",
    "    error = [False, False, False, False]\n",
    "    if (np.count_nonzero(block[1:, 1]) + np.count_nonzero(block[:, 3])) % 2 != block[0][1]:\n",
    "        error[0] = True\n",
    "    if (np.count_nonzero(block[1:, 2]) + np.count_nonzero(block[:, 3])) % 2 != block[0][2]:\n",
    "        error[1] = True\n",
    "    if (np.count_nonzero(block[1][1:]) + np.count_nonzero(block[3])) % 2 != block[1][0]:\n",
    "        error[2] = True\n",
    "    if (np.count_nonzero(block[2][1:]) + np.count_nonzero(block[3])) % 2 != block[2][0]:\n",
    "        error[3] = True\n",
    "        \n",
    "    if any(error):\n",
    "        col_error = None\n",
    "        row_error = None\n",
    "        if error[0] and error[1]:\n",
    "            col_error = 3\n",
    "        elif error[0] and not error[1]:\n",
    "            col_error = 1\n",
    "        elif not error[0] and error[1]:\n",
    "            col_error = 2\n",
    "        elif not error[0] and not error[1]:\n",
    "            col_error = 0\n",
    "    \n",
    "        if error[2] and error[3]:\n",
    "            row_error = 3\n",
    "        elif error[2] and not error[3]:\n",
    "            row_error = 1\n",
    "        elif not error[2] and error[3]:\n",
    "            row_error = 2\n",
    "        elif not error[2] and not error[3]:\n",
    "            row_error = 0\n",
    "\n",
    "        block[row_error][col_error] += 1\n",
    "        block[row_error][col_error] %= 2\n",
    "    print(block)\n",
    "    print(\"**************\")\n",
    "\n",
    "    places = [[0,3], [1,1], [1,2], [1,3], [2,1], [2,2], [2,3], [3,0], [3,1], [3,2], [3,3]]\n",
    "    _str = \"\"\n",
    "    for row,col in places:\n",
    "        _str+=str(block[row][col])\n",
    "    _str = int(_str)\n",
    "    _str = \"0b\" + str(_str)\n",
    "    return _str"
   ]
  },
  {
   "cell_type": "code",
   "execution_count": 5,
   "id": "ecb8a1dc-8a03-44a3-b349-2f786f9d5699",
   "metadata": {},
   "outputs": [
    {
     "name": "stdout",
     "output_type": "stream",
     "text": [
      "[[1 0 0 0]\n",
      " [1 0 0 0]\n",
      " [0 0 1 0]\n",
      " [0 0 1 0]]\n",
      "**************\n",
      "[[0 0 1 0]\n",
      " [1 0 0 0]\n",
      " [1 0 1 1]\n",
      " [1 1 1 0]]\n",
      "**************\n",
      "[[0 0 0 0]\n",
      " [0 0 0 0]\n",
      " [1 0 1 0]\n",
      " [0 1 0 1]]\n",
      "**************\n",
      "[[1 1 1 0]\n",
      " [1 0 0 0]\n",
      " [1 0 0 0]\n",
      " [1 1 1 0]]\n",
      "**************\n",
      "[[1 1 0 0]\n",
      " [0 0 0 0]\n",
      " [1 0 0 1]\n",
      " [0 1 0 1]]\n",
      "**************\n",
      "[[0 1 0 0]\n",
      " [1 0 0 0]\n",
      " [1 0 0 0]\n",
      " [0 1 0 0]]\n",
      "**************\n",
      "[[0 0 1 0]\n",
      " [1 0 0 0]\n",
      " [1 0 1 1]\n",
      " [1 1 1 0]]\n",
      "**************\n",
      "[[1 1 1 0]\n",
      " [1 0 0 0]\n",
      " [1 0 1 1]\n",
      " [0 0 1 0]]\n",
      "**************\n",
      "[[1 1 1 0]\n",
      " [1 0 0 0]\n",
      " [1 0 0 0]\n",
      " [1 1 1 0]]\n",
      "**************\n",
      "[[0 0 1 0]\n",
      " [1 0 0 0]\n",
      " [0 0 0 1]\n",
      " [0 1 0 0]]\n",
      "**************\n",
      "[[1 1 1 0]\n",
      " [1 0 0 0]\n",
      " [0 1 0 0]\n",
      " [1 1 0 1]]\n",
      "**************\n",
      "[34, 62, 37, 14, 21, 4, 62, 50, 14, 20, 77]\n"
     ]
    }
   ],
   "source": [
    "for i in range(len(binary_rep)):\n",
    "    binary_rep[i] = int(block_creator(binary_rep[i]), 2)\n",
    "print(binary_rep)"
   ]
  },
  {
   "cell_type": "code",
   "execution_count": 6,
   "id": "be4645c5-644a-4f70-92c2-76d7a62009fc",
   "metadata": {},
   "outputs": [],
   "source": [
    "alphabet = list(map(lambda x: x, \n",
    "                    \"abcdefghijklmnopqrstuvwxyzABCDEFGHIJKLMNOPQRSTUVWXYZ0123456789 !@#$%^&*()_+<>.,\"))"
   ]
  },
  {
   "cell_type": "code",
   "execution_count": 7,
   "id": "50220a57-c469-472a-a04f-8948777bf4bc",
   "metadata": {},
   "outputs": [
    {
     "name": "stdout",
     "output_type": "stream",
     "text": [
      "I Love You.\n"
     ]
    }
   ],
   "source": [
    "original_data = \"\"\n",
    "for i in binary_rep:\n",
    "    original_data += alphabet[i]\n",
    "print(original_data)"
   ]
  },
  {
   "cell_type": "code",
   "execution_count": null,
   "id": "e158a780-f39d-4095-ad51-c44854776af5",
   "metadata": {},
   "outputs": [],
   "source": []
  }
 ],
 "metadata": {
  "kernelspec": {
   "display_name": "Python 3 (ipykernel)",
   "language": "python",
   "name": "python3"
  },
  "language_info": {
   "codemirror_mode": {
    "name": "ipython",
    "version": 3
   },
   "file_extension": ".py",
   "mimetype": "text/x-python",
   "name": "python",
   "nbconvert_exporter": "python",
   "pygments_lexer": "ipython3",
   "version": "3.10.11"
  }
 },
 "nbformat": 4,
 "nbformat_minor": 5
}
