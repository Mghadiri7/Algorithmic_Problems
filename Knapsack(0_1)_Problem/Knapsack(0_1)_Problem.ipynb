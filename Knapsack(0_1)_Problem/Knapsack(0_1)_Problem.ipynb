{
 "cells": [
  {
   "cell_type": "markdown",
   "id": "dbf073b2-82bb-4247-ab43-65533e72b063",
   "metadata": {},
   "source": [
    "### Importing Dependencies"
   ]
  },
  {
   "cell_type": "code",
   "execution_count": 1,
   "id": "b19839f2-0ee9-497d-bb72-b12cdb641c64",
   "metadata": {},
   "outputs": [],
   "source": [
    "from random import randint as rnd\n",
    "import copy"
   ]
  },
  {
   "cell_type": "markdown",
   "id": "ee8d42a1-f6a0-4abf-a04e-72f11a96e8bc",
   "metadata": {},
   "source": [
    "### Setting The Problem Parameters"
   ]
  },
  {
   "cell_type": "code",
   "execution_count": 2,
   "id": "5463f32d-1645-47de-a2d5-cfa397df8df5",
   "metadata": {},
   "outputs": [],
   "source": [
    "N = 7 #number of items\n",
    "Max_Weight = 15 #maximume weight of the bag\n",
    "objects = [(10,2), (5,3), (15,5), (7,7), (6,1), (18,4), (3,1)] \n",
    "#objects = None\n",
    "Epoch = 200"
   ]
  },
  {
   "cell_type": "markdown",
   "id": "5ae3673b-a910-4250-aed3-e968c08e09fd",
   "metadata": {},
   "source": [
    "### Item Class"
   ]
  },
  {
   "cell_type": "code",
   "execution_count": 3,
   "id": "3ea90ca4-b3d8-4919-8a48-6162224fc079",
   "metadata": {},
   "outputs": [],
   "source": [
    "class Item:\n",
    "    def __init__(self, profit, weight):\n",
    "        self.profit = profit\n",
    "        self.weight = weight"
   ]
  },
  {
   "cell_type": "markdown",
   "id": "61fb93ee-4f3c-4277-8e09-678b30b4c243",
   "metadata": {},
   "source": [
    "### Items Getter Function"
   ]
  },
  {
   "cell_type": "code",
   "execution_count": 4,
   "id": "cf054bcb-72d3-4479-9503-f29e73f363db",
   "metadata": {},
   "outputs": [],
   "source": [
    "def get_items(n, input_items=None, verbos=0):\n",
    "    items = []\n",
    "    if input_items==None:\n",
    "        for i in range(n):\n",
    "            print(f\"Items #{i+1}\")\n",
    "            items_profit = int(input(\"Please Enter the Profit of the Item\"))\n",
    "            items_weight = int(input(\"Please Enter the Weight of the Item\"))\n",
    "            items.append(Item(items_profit, items_weight))\n",
    "        print(\"#######################################\")\n",
    "    else:\n",
    "        for item in input_items:\n",
    "            items.append(Item(item[0], item[1]))\n",
    "    if verbos:\n",
    "        for item in items:\n",
    "            print(f\"Item #{items.index(item)+1}: Profit:{item.profit}, Weight:{item.weight}\")\n",
    "        print(\"#######################################\")\n",
    "    return items"
   ]
  },
  {
   "cell_type": "markdown",
   "id": "e30516d1-845a-469a-857c-a683429e7769",
   "metadata": {},
   "source": [
    "### Random Item Picker Function"
   ]
  },
  {
   "cell_type": "code",
   "execution_count": 5,
   "id": "cc4c1c4c-3c81-413a-9f56-285835c41074",
   "metadata": {},
   "outputs": [],
   "source": [
    "def random_picker(items, max_weight):\n",
    "    offset = max_weight\n",
    "    bag =[]\n",
    "    items = [item for item in items if item.weight<=offset]\n",
    "    # while any(map(lambda x:True if x.weight<offset else False, items)):\n",
    "    while any(map(lambda x:x.weight<offset, items)):\n",
    "        length = len(items)-1\n",
    "        random_item = rnd(0, length)\n",
    "        offset -= items[random_item].weight\n",
    "        bag.append(items[random_item])\n",
    "        items.remove(items[random_item])\n",
    "        items = [item for item in items if item.weight<=offset]\n",
    "    return bag"
   ]
  },
  {
   "cell_type": "markdown",
   "id": "655ef454-6d03-4e7f-ab10-1a70370503fc",
   "metadata": {},
   "source": [
    "### Fitness Function"
   ]
  },
  {
   "cell_type": "code",
   "execution_count": 6,
   "id": "553500d5-f022-4d5a-a566-1deab703304d",
   "metadata": {},
   "outputs": [],
   "source": [
    "def fitness(bag):\n",
    "    total_profit = 0\n",
    "    for item in bag:\n",
    "        total_profit+=item.profit\n",
    "    return total_profit"
   ]
  },
  {
   "cell_type": "markdown",
   "id": "f538ab81-fa31-433d-8a27-5b1a57799b20",
   "metadata": {},
   "source": [
    "### Main"
   ]
  },
  {
   "cell_type": "code",
   "execution_count": 7,
   "id": "64a9056b-f785-4bd9-ac51-2cef7f997b53",
   "metadata": {},
   "outputs": [
    {
     "name": "stdout",
     "output_type": "stream",
     "text": [
      "Item #1: Profit:10, Weight:2\n",
      "Item #2: Profit:5, Weight:3\n",
      "Item #3: Profit:15, Weight:5\n",
      "Item #4: Profit:7, Weight:7\n",
      "Item #5: Profit:6, Weight:1\n",
      "Item #6: Profit:18, Weight:4\n",
      "Item #7: Profit:3, Weight:1\n",
      "#######################################\n",
      "Best Bag Profit So Far:  47\n",
      "Best Bag Weight:  14\n",
      "Item #1: Profit:18, Weight:4\n",
      "Item #2: Profit:15, Weight:5\n",
      "Item #3: Profit:3, Weight:1\n",
      "Item #4: Profit:5, Weight:3\n",
      "Item #5: Profit:6, Weight:1\n",
      "#############################################\n",
      "Best Bag Profit So Far:  54\n",
      "Best Bag Weight:  15\n",
      "Item #1: Profit:15, Weight:5\n",
      "Item #2: Profit:18, Weight:4\n",
      "Item #3: Profit:6, Weight:1\n",
      "Item #4: Profit:5, Weight:3\n",
      "Item #5: Profit:10, Weight:2\n",
      "#############################################\n"
     ]
    }
   ],
   "source": [
    "if __name__ == \"__main__\":\n",
    "    items = get_items(N, input_items=objects, verbos=1)\n",
    "    best_profit = 0\n",
    "    best_bag = []\n",
    "    while Epoch:\n",
    "        new_bag = random_picker(items, Max_Weight)\n",
    "        profit = fitness(new_bag)\n",
    "        if best_profit<profit:\n",
    "            best_profit = profit\n",
    "            best_bag = copy.deepcopy(new_bag)\n",
    "            print(\"Best Bag Profit So Far: \", best_profit)\n",
    "            print(\"Best Bag Weight: \", sum(map(lambda x:x.weight, best_bag)))\n",
    "            for item in best_bag:\n",
    "                print(f\"Item #{best_bag.index(item)+1}: Profit:{item.profit}, Weight:{item.weight}\")\n",
    "            print(\"#############################################\")\n",
    "        Epoch-=1"
   ]
  },
  {
   "cell_type": "code",
   "execution_count": null,
   "id": "c9d96404-ff02-438a-b813-7e0ac12d44a6",
   "metadata": {},
   "outputs": [],
   "source": []
  }
 ],
 "metadata": {
  "kernelspec": {
   "display_name": "Python 3 (ipykernel)",
   "language": "python",
   "name": "python3"
  },
  "language_info": {
   "codemirror_mode": {
    "name": "ipython",
    "version": 3
   },
   "file_extension": ".py",
   "mimetype": "text/x-python",
   "name": "python",
   "nbconvert_exporter": "python",
   "pygments_lexer": "ipython3",
   "version": "3.10.11"
  }
 },
 "nbformat": 4,
 "nbformat_minor": 5
}
