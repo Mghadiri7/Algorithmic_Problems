{
 "cells": [
  {
   "cell_type": "markdown",
   "id": "dbf073b2-82bb-4247-ab43-65533e72b063",
   "metadata": {},
   "source": [
    "### Importing Dependencies"
   ]
  },
  {
   "cell_type": "code",
   "execution_count": 1,
   "id": "b19839f2-0ee9-497d-bb72-b12cdb641c64",
   "metadata": {},
   "outputs": [],
   "source": [
    "from random import randint as rnd\n",
    "from random import shuffle"
   ]
  },
  {
   "cell_type": "markdown",
   "id": "ee8d42a1-f6a0-4abf-a04e-72f11a96e8bc",
   "metadata": {},
   "source": [
    "### Setting The Problem Parameters"
   ]
  },
  {
   "cell_type": "code",
   "execution_count": 2,
   "id": "5463f32d-1645-47de-a2d5-cfa397df8df5",
   "metadata": {},
   "outputs": [],
   "source": [
    "N = 7 #number of items\n",
    "Max_Weight = 14 #maximume weight of the bag\n",
    "objects = [(10,2), (5,3), (15,5), (7,7), (6,1), (18,4), (3,1)] \n",
    "#objects = None\n",
    "Population_Size = 100\n",
    "Mutation_Rate = 0.8\n",
    "Epoch = 200"
   ]
  },
  {
   "cell_type": "markdown",
   "id": "5ae3673b-a910-4250-aed3-e968c08e09fd",
   "metadata": {},
   "source": [
    "### Item Class"
   ]
  },
  {
   "cell_type": "code",
   "execution_count": 3,
   "id": "3ea90ca4-b3d8-4919-8a48-6162224fc079",
   "metadata": {},
   "outputs": [],
   "source": [
    "class Item:\n",
    "    def __init__(self, profit, weight):\n",
    "        self.profit = profit\n",
    "        self.weight = weight"
   ]
  },
  {
   "cell_type": "markdown",
   "id": "61fb93ee-4f3c-4277-8e09-678b30b4c243",
   "metadata": {},
   "source": [
    "### Items Getter Function"
   ]
  },
  {
   "cell_type": "code",
   "execution_count": 4,
   "id": "cf054bcb-72d3-4479-9503-f29e73f363db",
   "metadata": {},
   "outputs": [],
   "source": [
    "def get_items(n, input_items=None, verbos=0):\n",
    "    items = []\n",
    "    if input_items==None:\n",
    "        for i in range(n):\n",
    "            print(f\"Items #{i+1}\")\n",
    "            items_profit = int(input(\"Please Enter the Profit of the Item\"))\n",
    "            items_weight = int(input(\"Please Enter the Weight of the Item\"))\n",
    "            items.append(Item(items_profit, items_weight))\n",
    "        print(\"#######################################\")\n",
    "    else:\n",
    "        for item in input_items:\n",
    "            items.append(Item(item[0], item[1]))\n",
    "    if verbos:\n",
    "        for item in items:\n",
    "            print(f\"Item #{items.index(item)+1}: Profit:{item.profit}, Weight:{item.weight}\")\n",
    "        print(\"#######################################\")\n",
    "    return items"
   ]
  },
  {
   "cell_type": "markdown",
   "id": "16b38d86-1fe6-4973-b05f-5672164990e6",
   "metadata": {},
   "source": [
    "### Init Population Function"
   ]
  },
  {
   "cell_type": "code",
   "execution_count": 5,
   "id": "78328b51-e889-4ea2-a18a-4eda138d9089",
   "metadata": {},
   "outputs": [],
   "source": [
    "def init_population(n, ps):\n",
    "    population_list = []\n",
    "    for i in range(ps):\n",
    "        new_member = [0 for i in range(n)] + [1 for i in range(n)]\n",
    "        shuffle(new_member)\n",
    "        new_member = new_member[:n] + [None, None]\n",
    "        population_list.append(new_member)\n",
    "    return population_list"
   ]
  },
  {
   "cell_type": "markdown",
   "id": "c12758fd-094b-47e8-9d92-88d42e991e47",
   "metadata": {},
   "source": [
    "### Cross Over Function"
   ]
  },
  {
   "cell_type": "code",
   "execution_count": 6,
   "id": "ed841a18-497b-4c98-abe5-8e67188502d9",
   "metadata": {},
   "outputs": [],
   "source": [
    "def cross_over(population_list, n , ps):\n",
    "    n_b2 = n//2\n",
    "    for i in range(0, ps, 2):\n",
    "        child1 = population_list[i][:n_b2] + population_list[i+1][n_b2:n] + [None, None]\n",
    "        child2 = population_list[i+1][:n_b2] + population_list[i][n_b2:n] + [None, None]\n",
    "        population_list.append(child1)\n",
    "        population_list.append(child1)\n",
    "    return population_list"
   ]
  },
  {
   "cell_type": "markdown",
   "id": "d19ecc62-9ed2-4e77-8767-bab9577f159c",
   "metadata": {},
   "source": [
    "### Mutation Function"
   ]
  },
  {
   "cell_type": "code",
   "execution_count": 7,
   "id": "b652af06-e132-4d75-a7e6-175e02c10fee",
   "metadata": {},
   "outputs": [],
   "source": [
    "def mutation(population_list, n, ps, mr):\n",
    "    choosen_ones = [i for i in range(ps, ps*2)]\n",
    "    shuffle(choosen_ones)\n",
    "    choosen_ones = choosen_ones[:int(((ps*2)-1)*mr)]\n",
    "    for i in choosen_ones:\n",
    "        cell = rnd(0, n-1)\n",
    "        population_list[i][cell] = 1 if population_list[i][cell]==0 else 0\n",
    "    return population_list"
   ]
  },
  {
   "cell_type": "markdown",
   "id": "655ef454-6d03-4e7f-ab10-1a70370503fc",
   "metadata": {},
   "source": [
    "### Fitness Function"
   ]
  },
  {
   "cell_type": "code",
   "execution_count": 8,
   "id": "553500d5-f022-4d5a-a566-1deab703304d",
   "metadata": {},
   "outputs": [],
   "source": [
    "def weight_distance(bag, n , max_weight, items_list):\n",
    "    total_weight = 0\n",
    "    for i in range(n):\n",
    "        if bag[i]:\n",
    "            total_weight += items_list[i].weight\n",
    "    return abs(max_weight-total_weight) if total_weight<=max_weight else 100\n",
    "\n",
    "def profit(bag, n, items_list):\n",
    "    total_profit = 0\n",
    "    for i in range(n):\n",
    "        if bag[i]:\n",
    "            total_profit += items_list[i].profit\n",
    "    return total_profit\n",
    "\n",
    "def fitness(population_list, n, ps, items_list, max_weight):\n",
    "    for i in range(ps*2):\n",
    "        population_list[i][n] = weight_distance(population_list[i], n, max_weight, items_list)\n",
    "        population_list[i][n+1] = profit(population_list[i], n ,items_list)   \n",
    "    return population_list"
   ]
  },
  {
   "cell_type": "markdown",
   "id": "bd1b6f8c-8560-45de-a288-0c3c6db72167",
   "metadata": {},
   "source": [
    "### Sorter Function"
   ]
  },
  {
   "cell_type": "code",
   "execution_count": 9,
   "id": "4294147a-e5e6-4934-a2eb-acc296bc26a5",
   "metadata": {},
   "outputs": [],
   "source": [
    "def sorter(population_list, index1, index2):\n",
    "    sorted_list = sorted(population_list, key=lambda x: (x[index1], -x[index2]))\n",
    "    return sorted_list"
   ]
  },
  {
   "cell_type": "markdown",
   "id": "f538ab81-fa31-433d-8a27-5b1a57799b20",
   "metadata": {},
   "source": [
    "### Main"
   ]
  },
  {
   "cell_type": "code",
   "execution_count": 10,
   "id": "64a9056b-f785-4bd9-ac51-2cef7f997b53",
   "metadata": {},
   "outputs": [
    {
     "name": "stdout",
     "output_type": "stream",
     "text": [
      "Max Weight is 14\n",
      "#############################################\n",
      "Item #1: Profit:10, Weight:2\n",
      "Item #2: Profit:5, Weight:3\n",
      "Item #3: Profit:15, Weight:5\n",
      "Item #4: Profit:7, Weight:7\n",
      "Item #5: Profit:6, Weight:1\n",
      "Item #6: Profit:18, Weight:4\n",
      "Item #7: Profit:3, Weight:1\n",
      "#######################################\n",
      "Best Found solution: [1, 0, 1, 0, 1, 1, 1, 1, 52]\n",
      "#############################################\n",
      "[1, 0, 1, 0, 1, 1, 1, 1, 52]\n",
      "[1, 0, 1, 0, 1, 1, 0, 2, 49]\n",
      "[1, 0, 1, 0, 1, 1, 0, 2, 49]\n",
      "[1, 0, 1, 0, 1, 1, 0, 2, 49]\n",
      "[0, 1, 1, 0, 1, 1, 1, 0, 47]\n",
      "[1, 0, 1, 0, 0, 1, 1, 2, 46]\n",
      "[1, 0, 1, 0, 0, 1, 1, 2, 46]\n",
      "[1, 0, 1, 0, 0, 1, 1, 2, 46]\n",
      "[1, 0, 1, 0, 0, 1, 0, 3, 43]\n",
      "[1, 1, 0, 0, 1, 1, 1, 3, 42]\n",
      "[1, 1, 0, 0, 1, 1, 1, 3, 42]\n",
      "[1, 0, 0, 1, 1, 1, 0, 0, 41]\n",
      "[1, 0, 0, 1, 1, 1, 0, 0, 41]\n",
      "[1, 1, 1, 0, 1, 0, 1, 2, 39]\n",
      "[0, 0, 1, 0, 1, 1, 0, 4, 39]\n",
      "[0, 0, 1, 0, 1, 1, 0, 4, 39]\n",
      "[1, 0, 0, 1, 0, 1, 1, 0, 38]\n",
      "[1, 1, 1, 0, 1, 0, 0, 3, 36]\n",
      "[1, 1, 1, 0, 1, 0, 0, 3, 36]\n",
      "[1, 1, 1, 0, 1, 0, 0, 3, 36]\n",
      "[1, 1, 0, 0, 0, 1, 1, 4, 36]\n",
      "[0, 0, 1, 0, 0, 1, 1, 4, 36]\n",
      "[1, 1, 0, 0, 0, 1, 1, 4, 36]\n",
      "[1, 1, 0, 0, 0, 1, 1, 4, 36]\n",
      "[1, 0, 0, 1, 0, 1, 0, 1, 35]\n",
      "[1, 0, 0, 1, 0, 1, 0, 1, 35]\n",
      "[0, 0, 0, 1, 1, 1, 1, 1, 34]\n",
      "[0, 0, 0, 1, 1, 1, 1, 1, 34]\n",
      "[0, 0, 0, 1, 1, 1, 1, 1, 34]\n",
      "[1, 0, 1, 0, 1, 0, 1, 5, 34]\n",
      "[1, 0, 1, 0, 1, 0, 1, 5, 34]\n",
      "[1, 0, 1, 0, 1, 0, 1, 5, 34]\n",
      "[1, 0, 1, 0, 1, 0, 1, 5, 34]\n",
      "[0, 0, 1, 0, 0, 1, 0, 5, 33]\n",
      "[0, 0, 1, 0, 0, 1, 0, 5, 33]\n",
      "[0, 0, 1, 0, 0, 1, 0, 5, 33]\n",
      "[1, 0, 1, 1, 0, 0, 0, 0, 32]\n",
      "[1, 0, 1, 1, 0, 0, 0, 0, 32]\n",
      "[0, 1, 0, 0, 1, 1, 1, 5, 32]\n",
      "[0, 1, 0, 0, 1, 1, 1, 5, 32]\n",
      "[1, 1, 0, 1, 1, 0, 1, 0, 31]\n",
      "[0, 0, 1, 1, 1, 0, 1, 0, 31]\n",
      "[0, 0, 1, 1, 1, 0, 1, 0, 31]\n",
      "[1, 0, 1, 0, 1, 0, 0, 6, 31]\n",
      "[1, 0, 0, 0, 0, 1, 1, 7, 31]\n",
      "[1, 1, 1, 0, 0, 0, 0, 4, 30]\n",
      "[1, 1, 1, 0, 0, 0, 0, 4, 30]\n",
      "[1, 1, 1, 0, 0, 0, 0, 4, 30]\n",
      "[1, 1, 1, 0, 0, 0, 0, 4, 30]\n",
      "[0, 1, 1, 0, 1, 0, 1, 4, 29]\n",
      "[1, 1, 0, 1, 1, 0, 0, 1, 28]\n",
      "[1, 1, 0, 1, 1, 0, 0, 1, 28]\n",
      "[1, 1, 0, 1, 1, 0, 0, 1, 28]\n",
      "[1, 1, 0, 1, 1, 0, 0, 1, 28]\n",
      "[0, 0, 0, 1, 0, 1, 1, 2, 28]\n",
      "[0, 0, 0, 1, 0, 1, 1, 2, 28]\n",
      "[0, 0, 0, 1, 0, 1, 1, 2, 28]\n",
      "[1, 0, 1, 0, 0, 0, 1, 6, 28]\n",
      "[1, 0, 1, 0, 0, 0, 1, 6, 28]\n",
      "[1, 0, 1, 0, 0, 0, 1, 6, 28]\n",
      "[1, 0, 1, 0, 0, 0, 1, 6, 28]\n",
      "[1, 0, 0, 1, 1, 0, 1, 3, 26]\n",
      "[1, 0, 0, 1, 1, 0, 1, 3, 26]\n",
      "[1, 0, 0, 1, 1, 0, 1, 3, 26]\n",
      "[0, 1, 0, 0, 0, 1, 1, 6, 26]\n",
      "[0, 1, 0, 0, 0, 1, 1, 6, 26]\n",
      "[0, 1, 0, 0, 0, 1, 1, 6, 26]\n",
      "[0, 1, 0, 0, 0, 1, 1, 6, 26]\n",
      "[1, 1, 0, 1, 0, 0, 1, 1, 25]\n",
      "[0, 0, 0, 1, 0, 1, 0, 3, 25]\n",
      "[0, 0, 0, 1, 0, 1, 0, 3, 25]\n",
      "[0, 0, 0, 1, 0, 1, 0, 3, 25]\n",
      "[0, 0, 0, 1, 0, 1, 0, 3, 25]\n",
      "[0, 0, 0, 1, 0, 1, 0, 3, 25]\n",
      "[0, 0, 0, 1, 0, 1, 0, 3, 25]\n",
      "[0, 0, 0, 1, 0, 1, 0, 3, 25]\n",
      "[0, 0, 0, 1, 0, 1, 0, 3, 25]\n",
      "[1, 0, 1, 0, 0, 0, 0, 7, 25]\n",
      "[1, 0, 1, 0, 0, 0, 0, 7, 25]\n",
      "[0, 0, 1, 0, 1, 0, 1, 7, 24]\n",
      "[1, 1, 0, 0, 1, 0, 1, 7, 24]\n",
      "[1, 1, 0, 0, 1, 0, 1, 7, 24]\n",
      "[0, 1, 1, 0, 0, 0, 1, 5, 23]\n",
      "[1, 1, 0, 1, 0, 0, 0, 2, 22]\n",
      "[0, 1, 0, 1, 1, 0, 1, 2, 21]\n",
      "[0, 1, 0, 1, 1, 0, 1, 2, 21]\n",
      "[0, 1, 0, 1, 1, 0, 1, 2, 21]\n",
      "[0, 1, 0, 1, 1, 0, 1, 2, 21]\n",
      "[1, 0, 0, 1, 0, 0, 1, 4, 20]\n",
      "[0, 0, 0, 1, 1, 0, 1, 5, 16]\n",
      "[0, 0, 0, 1, 1, 0, 1, 5, 16]\n",
      "[0, 1, 0, 1, 0, 0, 1, 3, 15]\n",
      "[0, 1, 0, 1, 0, 0, 1, 3, 15]\n",
      "[0, 1, 0, 1, 0, 0, 1, 3, 15]\n",
      "[0, 1, 0, 1, 0, 0, 1, 3, 15]\n",
      "[0, 1, 0, 1, 0, 0, 0, 4, 12]\n",
      "[0, 1, 0, 1, 0, 0, 0, 4, 12]\n",
      "[0, 0, 0, 1, 0, 0, 1, 6, 10]\n",
      "[0, 0, 0, 1, 0, 0, 1, 6, 10]\n",
      "[0, 0, 0, 1, 0, 0, 1, 6, 10]\n"
     ]
    }
   ],
   "source": [
    "if __name__ == \"__main__\":\n",
    "    print(f\"Max Weight is {Max_Weight}\")\n",
    "    print(\"#############################################\")\n",
    "    items = get_items(N, input_items=objects, verbos=1)\n",
    "    while Epoch:\n",
    "        current_population = init_population(N, Population_Size)\n",
    "        current_population = cross_over(current_population, N, Population_Size)\n",
    "        current_population = mutation(current_population, N, Population_Size, Mutation_Rate)\n",
    "        current_population = fitness(current_population, N, Population_Size, items, Max_Weight)\n",
    "        current_population = sorter(current_population, N, N+1)\n",
    "        current_population = current_population[:Population_Size]\n",
    "        current_population = sorted(current_population, key=lambda x: -x[N+1])\n",
    "        Epoch-=1\n",
    "    else:\n",
    "        print(\"Best Found solution:\", current_population[0])\n",
    "        print(\"#############################################\")\n",
    "        for i in current_population:\n",
    "            print(i)"
   ]
  },
  {
   "cell_type": "code",
   "execution_count": null,
   "id": "c9d96404-ff02-438a-b813-7e0ac12d44a6",
   "metadata": {},
   "outputs": [],
   "source": []
  }
 ],
 "metadata": {
  "kernelspec": {
   "display_name": "Python 3 (ipykernel)",
   "language": "python",
   "name": "python3"
  },
  "language_info": {
   "codemirror_mode": {
    "name": "ipython",
    "version": 3
   },
   "file_extension": ".py",
   "mimetype": "text/x-python",
   "name": "python",
   "nbconvert_exporter": "python",
   "pygments_lexer": "ipython3",
   "version": "3.10.11"
  }
 },
 "nbformat": 4,
 "nbformat_minor": 5
}
