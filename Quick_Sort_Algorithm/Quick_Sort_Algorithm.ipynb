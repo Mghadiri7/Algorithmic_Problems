{
 "cells": [
  {
   "cell_type": "code",
   "execution_count": 1,
   "id": "f1a4a9f8-f9b2-49d8-81c1-0edbda784212",
   "metadata": {},
   "outputs": [],
   "source": [
    "from random import randint as rnd\n",
    "import matplotlib.pyplot as plt"
   ]
  },
  {
   "cell_type": "code",
   "execution_count": 2,
   "id": "fc7dd141-cf2c-422d-94d4-ed8127ff8633",
   "metadata": {},
   "outputs": [],
   "source": [
    "_list = [rnd(0, 20) for i in range(30)]"
   ]
  },
  {
   "cell_type": "code",
   "execution_count": 3,
   "id": "ce6abafd-2c45-4f40-94f4-447055dd67dc",
   "metadata": {},
   "outputs": [],
   "source": [
    "def quick_sort(_list, low, high):\n",
    "    if low<high:\n",
    "        pivot = low\n",
    "        i = low\n",
    "        j = high\n",
    "        while i<j:\n",
    "            while _list[i]<=_list[pivot] and i<high:\n",
    "                i+=1\n",
    "            while _list[j]>_list[pivot]:\n",
    "                j-=1\n",
    "            if i<j:\n",
    "                _list[i], _list[j] = _list[j], _list[i]\n",
    "        _list[j], _list[pivot] = _list[pivot], _list[j]\n",
    "        \n",
    "        quick_sort(_list, low, j-1)\n",
    "        quick_sort(_list, j+1, high)\n",
    "    return _list"
   ]
  },
  {
   "cell_type": "code",
   "execution_count": 4,
   "id": "8e7d4409-9ec5-47b8-ac5b-128be57ddbd3",
   "metadata": {},
   "outputs": [
    {
     "name": "stdout",
     "output_type": "stream",
     "text": [
      "[16, 4, 12, 12, 12, 11, 3, 18, 8, 9, 8, 10, 8, 8, 19, 4, 11, 4, 7, 18, 10, 14, 6, 5, 15, 4, 0, 12, 17, 14]\n",
      "[0, 3, 4, 4, 4, 4, 5, 6, 7, 8, 8, 8, 8, 9, 10, 10, 11, 11, 12, 12, 12, 12, 14, 14, 15, 16, 17, 18, 18, 19]\n"
     ]
    }
   ],
   "source": [
    "print(_list)\n",
    "print(quick_sort(_list, 0, len(_list)-1))"
   ]
  },
  {
   "cell_type": "code",
   "execution_count": null,
   "id": "4fae0a94-04e2-4811-8e5d-47d9830ae1e9",
   "metadata": {},
   "outputs": [],
   "source": []
  }
 ],
 "metadata": {
  "kernelspec": {
   "display_name": "Python 3 (ipykernel)",
   "language": "python",
   "name": "python3"
  },
  "language_info": {
   "codemirror_mode": {
    "name": "ipython",
    "version": 3
   },
   "file_extension": ".py",
   "mimetype": "text/x-python",
   "name": "python",
   "nbconvert_exporter": "python",
   "pygments_lexer": "ipython3",
   "version": "3.10.11"
  }
 },
 "nbformat": 4,
 "nbformat_minor": 5
}
