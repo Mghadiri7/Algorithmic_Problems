{
 "cells": [
  {
   "cell_type": "code",
   "execution_count": 3,
   "id": "be198653-1966-45a8-afb2-588456912420",
   "metadata": {},
   "outputs": [],
   "source": [
    "from random import randint as rnd\n",
    "import numpy as np"
   ]
  },
  {
   "cell_type": "code",
   "execution_count": 4,
   "id": "efac18cb-e2bc-457a-afdd-3cd1e4f38a20",
   "metadata": {},
   "outputs": [
    {
     "name": "stdout",
     "output_type": "stream",
     "text": [
      "[ 1  6 16 23 28 33 38 40 42 55 56 61 65 68 68 70 72 95 97 97]\n"
     ]
    }
   ],
   "source": [
    "N = 100\n",
    "length = 20\n",
    "_list = [rnd(1,N) for i in range(length)]\n",
    "_list = np.sort(_list)\n",
    "print(_list)"
   ]
  },
  {
   "cell_type": "code",
   "execution_count": 5,
   "id": "840c9c80-9b2d-47b2-b462-b474cef6e8c6",
   "metadata": {},
   "outputs": [],
   "source": [
    "def binary_search(_list, value):\n",
    "    if len(_list)==1:\n",
    "        if _list[0]==value:\n",
    "            return \"Found\"\n",
    "        else:\n",
    "            return \"Not-Found\"\n",
    "    else:\n",
    "        mid = len(_list)//2\n",
    "        if value>=_list[mid]:\n",
    "            return binary_search(_list[mid:], value)\n",
    "        else:\n",
    "            return binary_search(_list[:mid], value)"
   ]
  },
  {
   "cell_type": "code",
   "execution_count": 7,
   "id": "bd3c5346-240f-4f81-8a51-62c1ea662af7",
   "metadata": {},
   "outputs": [
    {
     "data": {
      "text/plain": [
       "'Found'"
      ]
     },
     "execution_count": 7,
     "metadata": {},
     "output_type": "execute_result"
    }
   ],
   "source": [
    "binary_search(_list, 40)"
   ]
  },
  {
   "cell_type": "code",
   "execution_count": 8,
   "id": "a1e4a59e-3b60-4ce9-ba0f-cca669123304",
   "metadata": {},
   "outputs": [
    {
     "data": {
      "text/plain": [
       "'Not-Found'"
      ]
     },
     "execution_count": 8,
     "metadata": {},
     "output_type": "execute_result"
    }
   ],
   "source": [
    "binary_search(_list, 41)"
   ]
  },
  {
   "cell_type": "code",
   "execution_count": 10,
   "id": "cf6b8a59-067a-4929-9fb7-4ecef6d18b04",
   "metadata": {},
   "outputs": [
    {
     "name": "stdout",
     "output_type": "stream",
     "text": [
      "[-5, 52, 93, -62, 19, -52, 100, -32, 27, 69, 23, 14, 12, 59, -20, -100, -61, 63, 24, 99]\n"
     ]
    }
   ],
   "source": [
    "N = 100\n",
    "length = 20\n",
    "_list1 = [rnd(0-N, N) for i in range(length)]\n",
    "print(_list1)"
   ]
  },
  {
   "cell_type": "code",
   "execution_count": 15,
   "id": "e6201893-f609-4937-b3d5-077fd253ed9d",
   "metadata": {},
   "outputs": [],
   "source": [
    "def linear_search(_list, value):\n",
    "    for i in _list:\n",
    "        if i == value:\n",
    "            return \"Found\"\n",
    "    else:\n",
    "        return \"Not-Found\""
   ]
  },
  {
   "cell_type": "code",
   "execution_count": 16,
   "id": "c09ddfc4-cb53-4d77-b19b-9955b476d99c",
   "metadata": {},
   "outputs": [
    {
     "data": {
      "text/plain": [
       "'Not-Found'"
      ]
     },
     "execution_count": 16,
     "metadata": {},
     "output_type": "execute_result"
    }
   ],
   "source": [
    "linear_search(_list1, 13)"
   ]
  },
  {
   "cell_type": "code",
   "execution_count": 17,
   "id": "0f693c55-4e8b-4189-bd32-85c789407964",
   "metadata": {},
   "outputs": [
    {
     "data": {
      "text/plain": [
       "'Found'"
      ]
     },
     "execution_count": 17,
     "metadata": {},
     "output_type": "execute_result"
    }
   ],
   "source": [
    "linear_search(_list1, 14)"
   ]
  },
  {
   "cell_type": "code",
   "execution_count": null,
   "id": "fb9a1ae4-207b-4d98-b704-c69b30c452ea",
   "metadata": {},
   "outputs": [],
   "source": []
  }
 ],
 "metadata": {
  "kernelspec": {
   "display_name": "Python 3 (ipykernel)",
   "language": "python",
   "name": "python3"
  },
  "language_info": {
   "codemirror_mode": {
    "name": "ipython",
    "version": 3
   },
   "file_extension": ".py",
   "mimetype": "text/x-python",
   "name": "python",
   "nbconvert_exporter": "python",
   "pygments_lexer": "ipython3",
   "version": "3.10.11"
  }
 },
 "nbformat": 4,
 "nbformat_minor": 5
}
