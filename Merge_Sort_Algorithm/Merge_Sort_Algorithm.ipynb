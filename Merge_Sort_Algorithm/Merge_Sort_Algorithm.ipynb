{
 "cells": [
  {
   "cell_type": "code",
   "execution_count": 1,
   "id": "208c71f8-68e9-41b8-953a-5aaf016cb5a3",
   "metadata": {},
   "outputs": [],
   "source": [
    "from random import randint as rnd"
   ]
  },
  {
   "cell_type": "code",
   "execution_count": 2,
   "id": "e8aa5c40-23df-4f3c-9ebf-e70f87151df8",
   "metadata": {},
   "outputs": [],
   "source": [
    "N = 100\n",
    "length = 20\n",
    "_list = [rnd(1, N) for i in range(length)]"
   ]
  },
  {
   "cell_type": "code",
   "execution_count": 3,
   "id": "aee0bb54-6c77-436c-94af-fa0dccd0a3cc",
   "metadata": {},
   "outputs": [],
   "source": [
    "def combine(_list1, _list2):\n",
    "    _list = []\n",
    "    len1 = len(_list1)\n",
    "    len2 = len(_list2)\n",
    "    i = j = 0\n",
    "    while i<len1 and j <len2:\n",
    "        if _list1[i]<_list2[j]:\n",
    "            _list.append(_list1[i])\n",
    "            i+=1\n",
    "        else:\n",
    "            _list.append(_list2[j])\n",
    "            j+=1\n",
    "    _list+=_list1[i:]\n",
    "    _list+=_list2[j:]\n",
    "    return _list"
   ]
  },
  {
   "cell_type": "code",
   "execution_count": 4,
   "id": "c72ed029-9d99-4d46-ba50-cacb3a03e5a7",
   "metadata": {},
   "outputs": [],
   "source": [
    "def merge(_list):\n",
    "    if len(_list)==1:\n",
    "        return _list\n",
    "    else:\n",
    "        mid = len(_list)//2\n",
    "        left = _list[:mid]\n",
    "        right = _list[mid:]\n",
    "        \n",
    "    left = merge(left)\n",
    "    right = merge(right)\n",
    "\n",
    "    return combine(left, right)"
   ]
  },
  {
   "cell_type": "code",
   "execution_count": 5,
   "id": "81f78805-0945-4c0c-b7bd-97d380ef07b2",
   "metadata": {},
   "outputs": [
    {
     "name": "stdout",
     "output_type": "stream",
     "text": [
      "[65, 71, 21, 95, 13, 73, 28, 80, 61, 37, 6, 98, 39, 71, 74, 24, 37, 77, 87, 30]\n"
     ]
    },
    {
     "data": {
      "text/plain": [
       "[6, 13, 21, 24, 28, 30, 37, 37, 39, 61, 65, 71, 71, 73, 74, 77, 80, 87, 95, 98]"
      ]
     },
     "execution_count": 5,
     "metadata": {},
     "output_type": "execute_result"
    }
   ],
   "source": [
    "print(_list)\n",
    "merge(_list)"
   ]
  },
  {
   "cell_type": "code",
   "execution_count": 6,
   "id": "ff46d4fc-6b3a-4e4d-ab63-9ca08be5100d",
   "metadata": {},
   "outputs": [
    {
     "data": {
      "text/plain": [
       "[1, 2, 3, 4, 5, 6, 7, 8, 9, 10, 11, 13, 15, 20, 21, 22, 23]"
      ]
     },
     "execution_count": 6,
     "metadata": {},
     "output_type": "execute_result"
    }
   ],
   "source": [
    "_list1 = [2, 4, 6, 8, 11, 13, 15]\n",
    "_list2 = [1, 3, 5, 7, 9, 10, 20, 21, 22, 23]\n",
    "combine(_list1, _list2)"
   ]
  }
 ],
 "metadata": {
  "kernelspec": {
   "display_name": "Python 3 (ipykernel)",
   "language": "python",
   "name": "python3"
  },
  "language_info": {
   "codemirror_mode": {
    "name": "ipython",
    "version": 3
   },
   "file_extension": ".py",
   "mimetype": "text/x-python",
   "name": "python",
   "nbconvert_exporter": "python",
   "pygments_lexer": "ipython3",
   "version": "3.10.11"
  }
 },
 "nbformat": 4,
 "nbformat_minor": 5
}
