{
 "cells": [
  {
   "cell_type": "markdown",
   "id": "ee8d42a1-f6a0-4abf-a04e-72f11a96e8bc",
   "metadata": {},
   "source": [
    "### Setting The Problem Parameters"
   ]
  },
  {
   "cell_type": "code",
   "execution_count": 1,
   "id": "5463f32d-1645-47de-a2d5-cfa397df8df5",
   "metadata": {},
   "outputs": [],
   "source": [
    "N = 7 #number of items\n",
    "Max_Weight = 15 #maximume weight of the bag\n",
    "objects = [(10,2), (5,3), (15,5), (7,7), (6,1), (18,4), (3,1)] \n",
    "#objects = None"
   ]
  },
  {
   "cell_type": "markdown",
   "id": "5ae3673b-a910-4250-aed3-e968c08e09fd",
   "metadata": {},
   "source": [
    "### Item Class"
   ]
  },
  {
   "cell_type": "code",
   "execution_count": 2,
   "id": "3ea90ca4-b3d8-4919-8a48-6162224fc079",
   "metadata": {},
   "outputs": [],
   "source": [
    "class Item:\n",
    "    def __init__(self, profit, weight):\n",
    "        self.profit = profit\n",
    "        self.weight = weight\n",
    "        self.profit_by_weight = profit/weight\n",
    "        self.portion = 0.0"
   ]
  },
  {
   "cell_type": "markdown",
   "id": "61fb93ee-4f3c-4277-8e09-678b30b4c243",
   "metadata": {},
   "source": [
    "### Items Getter Function"
   ]
  },
  {
   "cell_type": "code",
   "execution_count": 3,
   "id": "cf054bcb-72d3-4479-9503-f29e73f363db",
   "metadata": {},
   "outputs": [],
   "source": [
    "def get_items(n, input_items=None, verbos=0):\n",
    "    items = []\n",
    "    if input_items==None:\n",
    "        for i in range(n):\n",
    "            print(f\"Items #{i+1}\")\n",
    "            items_profit = int(input(\"Please Enter the Profit of the Item\"))\n",
    "            items_weight = int(input(\"Please Enter the Weight of the Item\"))\n",
    "            items.append(Item(items_profit, items_weight))\n",
    "        print(\"#######################################\")\n",
    "    else:\n",
    "        for item in input_items:\n",
    "            items.append(Item(item[0], item[1]))\n",
    "    if verbos:\n",
    "        for item in items:\n",
    "            print(f\"Item #{items.index(item)+1}: Profit:{item.profit}, Weight:{item.weight}\")\n",
    "        print(\"#######################################\")\n",
    "    return items"
   ]
  },
  {
   "cell_type": "markdown",
   "id": "e30516d1-845a-469a-857c-a683429e7769",
   "metadata": {},
   "source": [
    "### highest Profit by Weight Finder Function"
   ]
  },
  {
   "cell_type": "code",
   "execution_count": 4,
   "id": "83a39fef-88da-4c89-be3d-699b43ee4151",
   "metadata": {},
   "outputs": [],
   "source": [
    "def highest_p_w_item(list_of_items):\n",
    "    best_item = None\n",
    "    for i in list_of_items:\n",
    "        if best_item:\n",
    "            if i.profit_by_weight>best_item.profit_by_weight and i.portion<1:\n",
    "                best_item = i\n",
    "        else:\n",
    "            if i.portion<1:\n",
    "                best_item = i\n",
    "    return best_item"
   ]
  },
  {
   "cell_type": "markdown",
   "id": "f538ab81-fa31-433d-8a27-5b1a57799b20",
   "metadata": {},
   "source": [
    "### Main"
   ]
  },
  {
   "cell_type": "code",
   "execution_count": 5,
   "id": "64a9056b-f785-4bd9-ac51-2cef7f997b53",
   "metadata": {},
   "outputs": [
    {
     "name": "stdout",
     "output_type": "stream",
     "text": [
      "Max Weight is 15\n",
      "#############################################\n",
      "Item #1: Profit:10, Weight:2\n",
      "Item #2: Profit:5, Weight:3\n",
      "Item #3: Profit:15, Weight:5\n",
      "Item #4: Profit:7, Weight:7\n",
      "Item #5: Profit:6, Weight:1\n",
      "Item #6: Profit:18, Weight:4\n",
      "Item #7: Profit:3, Weight:1\n",
      "#######################################\n",
      "Total Profit:  55.333333333333336\n",
      "Weights: 1 + 2 + 4 + 5 + 1 + 2.0 \n",
      "profits: 6 + 10 + 18 + 15 + 3 + 3.333333333333334 \n"
     ]
    }
   ],
   "source": [
    "if __name__ == \"__main__\":\n",
    "    print(f\"Max Weight is {Max_Weight}\")\n",
    "    print(\"#############################################\")\n",
    "    items = get_items(N, input_items=objects, verbos=1)\n",
    "    bag = []\n",
    "    free_space = Max_Weight\n",
    "    while free_space>0:\n",
    "        best_case = highest_p_w_item(items)\n",
    "        if best_case:\n",
    "            if best_case.weight<=free_space:\n",
    "                best_case.portion = 1\n",
    "                bag.append(best_case)\n",
    "                free_space-=best_case.weight\n",
    "            else:\n",
    "                best_case.portion = ((free_space*100)/best_case.weight)/100\n",
    "                bag.append(best_case)\n",
    "                free_space = 0\n",
    "    total_profit = 0\n",
    "    weights = \"\"\n",
    "    profits = \"\"\n",
    "    for i in bag:\n",
    "        total_profit += i.portion * i.profit\n",
    "        weights += f\"{i.weight * i.portion} + \"\n",
    "        profits += f\"{i.profit * i.portion} + \"\n",
    "    print(\"Total Profit: \", total_profit)\n",
    "    print(f\"Weights: {weights[:len(weights)-2]}\")\n",
    "    print(f\"profits: {profits[:len(profits)-2]}\")"
   ]
  },
  {
   "cell_type": "code",
   "execution_count": null,
   "id": "c9d96404-ff02-438a-b813-7e0ac12d44a6",
   "metadata": {},
   "outputs": [],
   "source": []
  }
 ],
 "metadata": {
  "kernelspec": {
   "display_name": "Python 3 (ipykernel)",
   "language": "python",
   "name": "python3"
  },
  "language_info": {
   "codemirror_mode": {
    "name": "ipython",
    "version": 3
   },
   "file_extension": ".py",
   "mimetype": "text/x-python",
   "name": "python",
   "nbconvert_exporter": "python",
   "pygments_lexer": "ipython3",
   "version": "3.10.11"
  }
 },
 "nbformat": 4,
 "nbformat_minor": 5
}
