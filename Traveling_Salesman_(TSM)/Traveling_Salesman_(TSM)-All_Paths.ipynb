{
 "cells": [
  {
   "cell_type": "markdown",
   "id": "066890bf-9253-43b9-8f08-abba9132ec53",
   "metadata": {},
   "source": [
    "## Traveling Salesman"
   ]
  },
  {
   "cell_type": "markdown",
   "id": "dedb7e7c-0063-4b5e-934c-d64884b150e6",
   "metadata": {},
   "source": [
    "### Importing Dependencies"
   ]
  },
  {
   "cell_type": "code",
   "execution_count": 1,
   "id": "7b38c0fe-807e-4973-99e1-adcace204921",
   "metadata": {},
   "outputs": [],
   "source": [
    "import numpy as np\n",
    "import matplotlib.pyplot as plt\n",
    "import cv2\n",
    "from random import randint as rnd\n",
    "from random import shuffle"
   ]
  },
  {
   "cell_type": "markdown",
   "id": "0df88a7a-1651-47e4-bce2-7e713fe07647",
   "metadata": {},
   "source": [
    "### Setting the Problem Parameters"
   ]
  },
  {
   "cell_type": "code",
   "execution_count": 2,
   "id": "43dc0b09-a4ac-4b08-a626-8e89c1ab3f9d",
   "metadata": {},
   "outputs": [],
   "source": [
    "N_Cities = 8\n",
    "Area_Width = 500\n",
    "Area_Hight = 500"
   ]
  },
  {
   "cell_type": "markdown",
   "id": "228e5211-7748-43cf-8ae7-bda5ce8c2067",
   "metadata": {},
   "source": [
    "### City Randomizer Function"
   ]
  },
  {
   "cell_type": "code",
   "execution_count": 3,
   "id": "4ac1eed0-5691-405c-bfb8-4a8ca2bfc619",
   "metadata": {},
   "outputs": [],
   "source": [
    "def city_randomizer(n, w, h):\n",
    "    offset = 20\n",
    "    city_list = []\n",
    "    for i in range(n):\n",
    "        x = rnd(offset, w-offset)\n",
    "        y = rnd(offset, h-offset)\n",
    "        city_list.append([x, y])\n",
    "    return city_list"
   ]
  },
  {
   "cell_type": "markdown",
   "id": "b295fe2a-4ef1-47b8-b809-6db52b92b054",
   "metadata": {},
   "source": [
    "### Draw Cities Function"
   ]
  },
  {
   "cell_type": "code",
   "execution_count": 4,
   "id": "9af88534-ffa2-482d-b6b7-93a35ae02354",
   "metadata": {},
   "outputs": [],
   "source": [
    "def draw_cities(img, location_list, color):\n",
    "    for city in location_list:\n",
    "        img = cv2.circle(img, city, 10, color, -1)\n",
    "    return img"
   ]
  },
  {
   "cell_type": "markdown",
   "id": "35f87271-14b9-4718-8c69-85d8935962d9",
   "metadata": {},
   "source": [
    "### Path Converter Function"
   ]
  },
  {
   "cell_type": "code",
   "execution_count": 5,
   "id": "3be7ee9b-91fb-4eea-ad7a-323bf51196ab",
   "metadata": {},
   "outputs": [],
   "source": [
    "def converter(path, location_list):\n",
    "    converted = []\n",
    "    for i in path:\n",
    "        converted.append(location_list[i])\n",
    "    return converted"
   ]
  },
  {
   "cell_type": "markdown",
   "id": "d4a7d54c-aa10-4a82-9cb6-5f7990188931",
   "metadata": {},
   "source": [
    "### Euclidean Distance Function"
   ]
  },
  {
   "cell_type": "code",
   "execution_count": 6,
   "id": "ee40dbcb-6a52-4bdd-8519-a0821130b154",
   "metadata": {},
   "outputs": [],
   "source": [
    "def distance_calculator(path):\n",
    "    dis = 0\n",
    "    for i in range(len(path)-1):\n",
    "        dis += np.sqrt((path[i][0]-path[i+1][0])**2 + (path[i][1]-path[i+1][1])**2)\n",
    "    return dis"
   ]
  },
  {
   "cell_type": "markdown",
   "id": "6c3794c5-52e7-45d0-a566-6c8727fff50d",
   "metadata": {},
   "source": [
    "### Draw Path Function"
   ]
  },
  {
   "cell_type": "code",
   "execution_count": 7,
   "id": "0f853c11-5e83-405d-85f9-db8c39d0c276",
   "metadata": {},
   "outputs": [],
   "source": [
    "def draw_path(img, path, color):\n",
    "    for i in range(len(path)-1):\n",
    "        img = cv2.line(img, path[i], path[i+1], color, 2)\n",
    "    return img"
   ]
  },
  {
   "cell_type": "markdown",
   "id": "8869fa39-7a81-4d82-a275-4f4796ca0780",
   "metadata": {},
   "source": [
    "### Lexicographic Ordering"
   ]
  },
  {
   "cell_type": "code",
   "execution_count": 8,
   "id": "068ce645-277d-4c26-a10f-51c278bbcdf2",
   "metadata": {},
   "outputs": [],
   "source": [
    "def swap(_list, index1, index2):\n",
    "    _list[index1], _list[index2] = _list[index2], _list[index1]\n",
    "    return _list\n",
    "\n",
    "def all_paths(n):\n",
    "    paths = []\n",
    "    items = [i for i in range(n)]\n",
    "    # paths.append(items)\n",
    "    yield items\n",
    "    \n",
    "    while(True):\n",
    "        #step_1\n",
    "        largest_i = -1\n",
    "        for i in range(len(items)-1):\n",
    "            if items[i] < items[i+1]:\n",
    "                largest_i = i\n",
    "        if largest_i == -1:\n",
    "            break\n",
    "        #step_2\n",
    "        largest_j = 0\n",
    "        for j in range(len(items)):\n",
    "            if items[largest_i] < items[j]:\n",
    "                largest_j = j\n",
    "\n",
    "        #step_3\n",
    "        items = swap(items, largest_i, largest_j)\n",
    "\n",
    "        #step_4\n",
    "        left_half = items[:largest_i+1]\n",
    "        right_half = items[largest_i+1:]\n",
    "        right_half.reverse()\n",
    "        items = left_half + right_half\n",
    "    #     paths.append(items)\n",
    "        \n",
    "    # return paths\n",
    "        yield items"
   ]
  },
  {
   "cell_type": "markdown",
   "id": "4e83d1a1-406c-4063-ad79-b6f4b055731c",
   "metadata": {},
   "source": [
    "### Main"
   ]
  },
  {
   "cell_type": "code",
   "execution_count": 9,
   "id": "08e73912-57e2-410b-9023-d40557b20ae1",
   "metadata": {},
   "outputs": [
    {
     "data": {
      "image/png": "[encoded data removed]",
      "text/plain": [
       "<Figure size 640x480 with 1 Axes>"
      ]
     },
     "metadata": {},
     "output_type": "display_data"
    }
   ],
   "source": [
    "if __name__==\"__main__\":\n",
    "    area = np.full((Area_Width, Area_Hight, 3), 255, np.uint8)\n",
    "    cities_locations = city_randomizer(N_Cities, Area_Width, Area_Hight)\n",
    "    area = draw_cities(area, cities_locations, (11, 152, 200))\n",
    "    # paths = all_paths(N_Cities)\n",
    "\n",
    "    best_distance = None\n",
    "    best_path = []\n",
    "    # for path in paths:\n",
    "    for path in all_paths(N_Cities):\n",
    "        new_path = converter(path, cities_locations)\n",
    "        d = distance_calculator(new_path)\n",
    "        if best_distance != None:\n",
    "            if d<best_distance:\n",
    "                best_distance = d\n",
    "                best_path = new_path.copy()\n",
    "        else:\n",
    "            best_distance = d\n",
    "            best_path = new_path.copy()\n",
    "            \n",
    "    area = draw_path(area, best_path, (26, 32, 40))\n",
    "\n",
    "    plt.imshow(area)\n",
    "    plt.title(f\"Best Distance: {best_distance}\")\n",
    "    plt.grid()\n",
    "    plt.show()  \n"
   ]
  },
  {
   "cell_type": "code",
   "execution_count": null,
   "id": "a060de3f-752a-4b69-8269-0f87b126c9bb",
   "metadata": {},
   "outputs": [],
   "source": []
  }
 ],
 "metadata": {
  "kernelspec": {
   "display_name": "Python 3 (ipykernel)",
   "language": "python",
   "name": "python3"
  },
  "language_info": {
   "codemirror_mode": {
    "name": "ipython",
    "version": 3
   },
   "file_extension": ".py",
   "mimetype": "text/x-python",
   "name": "python",
   "nbconvert_exporter": "python",
   "pygments_lexer": "ipython3",
   "version": "3.10.11"
  }
 },
 "nbformat": 4,
 "nbformat_minor": 5
}
