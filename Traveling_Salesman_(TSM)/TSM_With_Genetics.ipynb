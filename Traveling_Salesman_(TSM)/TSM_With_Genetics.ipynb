{
 "cells": [
  {
   "cell_type": "markdown",
   "id": "b3fc1bc1-28d3-4dcf-b3cf-96502854df3d",
   "metadata": {},
   "source": [
    "## TSM with Genetics"
   ]
  },
  {
   "cell_type": "markdown",
   "id": "1266a6b6-8d10-42d9-802e-3f9e42f04537",
   "metadata": {},
   "source": [
    "### Importing Dependencies"
   ]
  },
  {
   "cell_type": "code",
   "execution_count": 1,
   "id": "b5a2600f-79e6-4a13-86aa-073de9375d54",
   "metadata": {},
   "outputs": [],
   "source": [
    "from random import randint as rnd\n",
    "from random import shuffle\n",
    "import numpy as np\n",
    "import matplotlib.pyplot as plt\n",
    "import cv2"
   ]
  },
  {
   "cell_type": "markdown",
   "id": "539a28e4-63a8-409d-a8f9-6b8f07d9bd90",
   "metadata": {},
   "source": [
    "### Setting Parameters"
   ]
  },
  {
   "cell_type": "code",
   "execution_count": 2,
   "id": "a790b148-e1be-4086-a387-19ca37a86968",
   "metadata": {},
   "outputs": [],
   "source": [
    "N_Cities = 10\n",
    "Width = 500\n",
    "Height = 500\n",
    "\n",
    "Population_Size = 100\n",
    "Epoch = 200"
   ]
  },
  {
   "cell_type": "markdown",
   "id": "5f22f2d4-c4f9-46c8-b980-34d9e2105832",
   "metadata": {},
   "source": [
    "### Random City Generator Function"
   ]
  },
  {
   "cell_type": "code",
   "execution_count": 3,
   "id": "3a6389e8-5452-4cfd-adc8-fb121bba4a2a",
   "metadata": {},
   "outputs": [],
   "source": [
    "def random_city_generator(n, w, h):\n",
    "    offset = 20\n",
    "    cities = []\n",
    "    i = 0\n",
    "    while i < n:\n",
    "        city_location = [rnd(offset, w-offset), rnd(offset, h-offset)]\n",
    "        if city_location not in cities:\n",
    "            cities.append(city_location)\n",
    "            i+=1\n",
    "    return cities"
   ]
  },
  {
   "cell_type": "markdown",
   "id": "1a5a7733-ab15-4688-b47c-a0f272acf4d8",
   "metadata": {},
   "source": [
    "### Initial Population Function"
   ]
  },
  {
   "cell_type": "code",
   "execution_count": 4,
   "id": "abe51395-8906-4c1f-ad9a-5507040b8cad",
   "metadata": {},
   "outputs": [],
   "source": [
    "def init_population(n, ps):\n",
    "    population_list = []\n",
    "    for i in range(ps):\n",
    "        path = [i for i in range(n)]\n",
    "        shuffle(path)\n",
    "        path+=[None]\n",
    "        population_list.append(path)\n",
    "    return population_list"
   ]
  },
  {
   "cell_type": "markdown",
   "id": "ef8aa2e6-1cfd-4129-8cc2-1b0b6d3b6e8c",
   "metadata": {},
   "source": [
    "### Cross Over Function"
   ]
  },
  {
   "cell_type": "code",
   "execution_count": 5,
   "id": "0690d4e1-d64b-40eb-a93f-864594d7972b",
   "metadata": {},
   "outputs": [],
   "source": [
    "def cross_over(population_list, n, ps):\n",
    "    for i in range(ps):\n",
    "        new_path = population_list[i][:n] + [None]\n",
    "        population_list.append(new_path)\n",
    "    return population_list"
   ]
  },
  {
   "cell_type": "markdown",
   "id": "5fdf8b3c-8f39-4901-a488-887eaa11097d",
   "metadata": {},
   "source": [
    "### Mutaion function"
   ]
  },
  {
   "cell_type": "code",
   "execution_count": 6,
   "id": "2b0e3227-f3fa-4303-8d89-583033a62e65",
   "metadata": {},
   "outputs": [],
   "source": [
    "def mutation(population_list, n, ps):\n",
    "    length = ps*2\n",
    "    i = ps\n",
    "    while i < length:\n",
    "        cell_1 = rnd(0, n-1)\n",
    "        cell_2 = rnd(0, n-1)\n",
    "        if cell_1 != cell_2:\n",
    "            population_list[i][cell_1], population_list[i][cell_2] = population_list[i][cell_2], population_list[i][cell_1]\n",
    "            i+=1\n",
    "    return population_list"
   ]
  },
  {
   "cell_type": "markdown",
   "id": "9a805c24-3389-48b7-adcc-9313cfc55d55",
   "metadata": {},
   "source": [
    "### Fitness Function"
   ]
  },
  {
   "cell_type": "code",
   "execution_count": 7,
   "id": "f0f7b9f4-a94e-463f-9c45-856f00bf7f48",
   "metadata": {},
   "outputs": [],
   "source": [
    "def path_cordinates(cities_locations, path):\n",
    "    cordinates = []\n",
    "    for i in path:\n",
    "        cordinates.append(cities_locations[i])\n",
    "    return cordinates\n",
    "\n",
    "def euclidean_distance(path):\n",
    "    distance = 0\n",
    "    for i in range(len(path)-1):\n",
    "        distance += np.sqrt((path[i][0]-path[i+1][0])**2 + (path[i][1]-path[i+1][1])**2)\n",
    "    return distance\n",
    "    \n",
    "def fitness(population_list, n, location_list):\n",
    "    for i in range(len(population_list)):\n",
    "        if population_list[i][-1]==None:\n",
    "            current_path = path_cordinates(location_list, population_list[i][:n]+[population_list[i][0]])\n",
    "            d = euclidean_distance(current_path)\n",
    "            population_list[i][n] = d\n",
    "    return population_list"
   ]
  },
  {
   "cell_type": "markdown",
   "id": "805c20ad-7401-4377-82b4-a7356f7afc5f",
   "metadata": {},
   "source": [
    "### Sorter Function"
   ]
  },
  {
   "cell_type": "code",
   "execution_count": 8,
   "id": "e38aea3c-5128-4a5b-a68e-5a14aea192f7",
   "metadata": {},
   "outputs": [],
   "source": [
    "def sorter(population_list, k):\n",
    "    population_list.sort(key = lambda x: x[k])\n",
    "    return population_list"
   ]
  },
  {
   "cell_type": "markdown",
   "id": "4eb6414a-3d1c-4b88-b43b-551fc13dd70e",
   "metadata": {},
   "source": [
    "### Draw Cities"
   ]
  },
  {
   "cell_type": "code",
   "execution_count": 9,
   "id": "536e6ecc-c601-4da4-9938-f331176f47b4",
   "metadata": {},
   "outputs": [],
   "source": [
    "def draw_cities(img, location_list, color):\n",
    "    for city in location_list:\n",
    "        img = cv2.circle(img, city, 6, color, -1)\n",
    "    return img"
   ]
  },
  {
   "cell_type": "markdown",
   "id": "80c1adbd-142f-4f4e-8c26-9c6c338d0511",
   "metadata": {},
   "source": [
    "### Draw Path"
   ]
  },
  {
   "cell_type": "code",
   "execution_count": 10,
   "id": "18ea516f-8f3e-4a37-b77b-d3ca6be88cce",
   "metadata": {},
   "outputs": [],
   "source": [
    "def draw_path(img, path, color):\n",
    "    for i in range(len(path)-1):\n",
    "        img = cv2.line(img, path[i], path[i+1], color, 2)\n",
    "    return img"
   ]
  },
  {
   "cell_type": "markdown",
   "id": "5ac739f5-a922-4398-92ab-685d1d5c1f65",
   "metadata": {},
   "source": [
    "### Main"
   ]
  },
  {
   "cell_type": "code",
   "execution_count": 11,
   "id": "bc3c9398-95eb-46fa-bc74-89c6f50fe670",
   "metadata": {},
   "outputs": [
    {
     "name": "stdout",
     "output_type": "stream",
     "text": [
      "Best found solution:  [0, 7, 4, 2, 1, 3, 6, 5, 8, 9, np.float64(1380.941925472972)]\n"
     ]
    },
    {
     "data": {
      "image/png": "[encoded data removed]",
      "text/plain": [
       "<Figure size 640x480 with 1 Axes>"
      ]
     },
     "metadata": {},
     "output_type": "display_data"
    }
   ],
   "source": [
    "if __name__ == \"__main__\":\n",
    "    cities_locations = random_city_generator(N_Cities, Width, Height)\n",
    "    current_population = init_population(N_Cities, Population_Size)\n",
    "\n",
    "    for i in range(1, Epoch+1):\n",
    "        current_population = cross_over(current_population, N_Cities, Population_Size)\n",
    "        current_population = mutation(current_population, N_Cities, Population_Size)\n",
    "        current_population = fitness(current_population, N_Cities, cities_locations)\n",
    "        current_population = sorter(current_population, N_Cities)\n",
    "        current_population = current_population[:Population_Size]\n",
    "        # print(\"Best Path and Distance so far: \", current_population[0])\n",
    "    else:\n",
    "        print(\"Best found solution: \", current_population[0])\n",
    "        area = np.full((Width, Height, 3), 255, np.int16)\n",
    "        area = draw_cities(area, cities_locations, (0,0,255))\n",
    "        current_path = path_cordinates(cities_locations, current_population[0][:N_Cities])\n",
    "        current_path += [current_path[0]]\n",
    "        area = draw_path(area, current_path, (187,134,192))\n",
    "        plt.imshow(area)\n",
    "        plt.grid()\n",
    "        plt.show()"
   ]
  },
  {
   "cell_type": "code",
   "execution_count": null,
   "id": "cad878d0-a3ba-42d2-992b-f7c63adf2910",
   "metadata": {},
   "outputs": [],
   "source": []
  }
 ],
 "metadata": {
  "kernelspec": {
   "display_name": "Python 3 (ipykernel)",
   "language": "python",
   "name": "python3"
  },
  "language_info": {
   "codemirror_mode": {
    "name": "ipython",
    "version": 3
   },
   "file_extension": ".py",
   "mimetype": "text/x-python",
   "name": "python",
   "nbconvert_exporter": "python",
   "pygments_lexer": "ipython3",
   "version": "3.10.11"
  }
 },
 "nbformat": 4,
 "nbformat_minor": 5
}
